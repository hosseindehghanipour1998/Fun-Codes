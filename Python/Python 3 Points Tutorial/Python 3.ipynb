{
 "cells": [
  {
   "cell_type": "markdown",
   "metadata": {},
   "source": [
    "# Python 3\n",
    "\n",
    "Based on Sololearn tutorials and my own experience"
   ]
  },
  {
   "cell_type": "markdown",
   "metadata": {},
   "source": [
    "### Regular Expressions (Regex)\n"
   ]
  },
  {
   "cell_type": "markdown",
   "metadata": {},
   "source": [
    "- verifying that strings match a pattern (for instance, that a string has the format of an email address),\n",
    "- performing substitutions in a string (such as changing all American spellings to British ones).\n",
    "<hr/>\n"
   ]
  },
  {
   "cell_type": "markdown",
   "metadata": {},
   "source": [
    "- Regular expressions in Python can be accessed using the __re__ module, which is part of the standard library.\n",
    "After you've defined a regular expression, the __re.match__ function can be used to determine whether it matches at the beginning of a string.\n",
    "If it does, match returns an object representing the match, if not, it returns None.\n",
    "To avoid any confusion while working with regular expressions, we would use raw strings as r\"expression\".\n",
    "Raw strings don't escape anything, which makes use of regular expressions easier."
   ]
  },
  {
   "cell_type": "code",
   "execution_count": 1,
   "metadata": {},
   "outputs": [
    {
     "name": "stdout",
     "output_type": "stream",
     "text": [
      "Match\n"
     ]
    }
   ],
   "source": [
    "import re\n",
    "\n",
    "pattern = r\"spam\"\n",
    "\n",
    "if re.match(pattern, \"spamspamspam\"):\n",
    "    print(\"Match\")\n",
    "else:\n",
    "    print(\"No match\")\n"
   ]
  },
  {
   "cell_type": "markdown",
   "metadata": {},
   "source": [
    "Here the pattern is a simple word, but there are various characters, which would have special meaning when they are used in a regular expression."
   ]
  },
  {
   "cell_type": "code",
   "execution_count": 2,
   "metadata": {},
   "outputs": [
    {
     "name": "stdout",
     "output_type": "stream",
     "text": [
      "No match\n"
     ]
    }
   ],
   "source": [
    "import re\n",
    "\n",
    "pattern = r\"pamspam\"\n",
    "\n",
    "if re.match(pattern, \"spamspamspam\"):\n",
    "    print(\"Match\")\n",
    "else:\n",
    "    print(\"No match\")"
   ]
  },
  {
   "cell_type": "markdown",
   "metadata": {},
   "source": [
    "The Last \"pam\" in the text doesn't have a following \"spam\", therefore, the pattern doesn't match.\n",
    "\n",
    "<hr/>"
   ]
  },
  {
   "cell_type": "markdown",
   "metadata": {},
   "source": [
    "- The function __re.search__ finds a match of a pattern anywhere in the string.\n",
    "- The function __re.findall__ returns a list of all substrings that match a pattern."
   ]
  },
  {
   "cell_type": "code",
   "execution_count": 3,
   "metadata": {},
   "outputs": [
    {
     "name": "stdout",
     "output_type": "stream",
     "text": [
      "No match\n",
      "Match\n",
      "['spam', 'spam']\n"
     ]
    }
   ],
   "source": [
    "import re\n",
    "\n",
    "pattern = r\"spam\"\n",
    "\n",
    "if re.match(pattern, \"eggspamsausagespam\"):\n",
    "    print(\"Match\")\n",
    "else:\n",
    "    print(\"No match\")\n",
    "\n",
    "if re.search(pattern, \"eggspamsausagespam\"):\n",
    "    print(\"Match\")\n",
    "else:\n",
    "    print(\"No match\")\n",
    "\n",
    "print(re.findall(pattern, \"eggspamsausagespam\"))"
   ]
  },
  {
   "cell_type": "code",
   "execution_count": 7,
   "metadata": {},
   "outputs": [
    {
     "data": {
      "text/plain": [
       "<re.Match object; span=(3, 7), match='spam'>"
      ]
     },
     "execution_count": 7,
     "metadata": {},
     "output_type": "execute_result"
    }
   ],
   "source": [
    "import re\n",
    "pattern = r\"spam\"\n",
    "re.search(pattern, \"eggspamsausagespam\")\n",
    "# Span [3,7) is the first span that containts the pattern."
   ]
  },
  {
   "cell_type": "markdown",
   "metadata": {},
   "source": [
    "The function __re.finditer__ does the same thing as __re.findall__, except it returns an __iterator__, rather than a list.\n",
    "\n",
    "<hr/>"
   ]
  },
  {
   "cell_type": "markdown",
   "metadata": {},
   "source": [
    "The regex search returns an object with several methods that give details about it.\n",
    "These methods include `group()` which returns the string matched, `start()` and `end()` which return the _start and ending_ positions of the ___first match___, and `span()` which returns the _start and end positions_ of the ___first___ match as a __tuple__."
   ]
  },
  {
   "cell_type": "code",
   "execution_count": 8,
   "metadata": {},
   "outputs": [
    {
     "name": "stdout",
     "output_type": "stream",
     "text": [
      "pam\n",
      "4\n",
      "7\n",
      "(4, 7)\n"
     ]
    }
   ],
   "source": [
    "import re\n",
    "\n",
    "pattern = r\"pam\"\n",
    "\n",
    "match = re.search(pattern, \"eggspamsausage\")\n",
    "if match:\n",
    "    print(match.group())\n",
    "    print(match.start())\n",
    "    print(match.end())\n",
    "    print(match.span())"
   ]
  },
  {
   "cell_type": "markdown",
   "metadata": {},
   "source": [
    "<hr/>\n"
   ]
  },
  {
   "cell_type": "markdown",
   "metadata": {},
   "source": [
    "One of the most important re methods that use regular expressions is `sub()`.\n",
    "This method replaces __all__ occurrences of the _pattern_ in string with _repl_, substituting all occurrences, unless __count__ provided. _This method returns the __modified__ string_."
   ]
  },
  {
   "cell_type": "code",
   "execution_count": 15,
   "metadata": {},
   "outputs": [
    {
     "name": "stdout",
     "output_type": "stream",
     "text": [
      "My name is Amy. Hi Amy.\n",
      "My name is Amy. Hi David.\n",
      "My name is Amy. Hi Amy.\n"
     ]
    }
   ],
   "source": [
    "import re\n",
    "\n",
    "str = \"My name is David. Hi David.\"\n",
    "pattern = r\"David\"\n",
    "newstr = re.sub(pattern, \"Amy\", str, count=0)\n",
    "print(newstr)\n",
    "newstr = re.sub(pattern, \"Amy\", str, count=1)\n",
    "print(newstr)\n",
    "newstr = re.sub(pattern, \"Amy\", str, count=2)\n",
    "print(newstr)"
   ]
  },
  {
   "cell_type": "markdown",
   "metadata": {},
   "source": [
    "<hr/>\n",
    "\n",
    "### Meta Characters"
   ]
  },
  {
   "cell_type": "markdown",
   "metadata": {},
   "source": [
    "Metacharacters are what make regular expressions more powerful than normal string methods.\n",
    "They allow you to create regular expressions to represent concepts like \"one or more repetitions of a vowel\".\n",
    "\n",
    "The existence of metacharacters poses a problem if you want to create a regular expression (or regex) that matches a literal metacharacter, such as \"$\". You can do this by escaping the metacharacters by putting a backslash in front of them.\n",
    "However, this can cause problems, since backslashes also have an escaping function in normal Python strings. This can mean putting three or four backslashes in a row to do all the escaping.\n",
    "To avoid this, you can use a raw string, which is a normal string with an \"r\" in front of it. We saw usage of raw strings in the previous lesson."
   ]
  },
  {
   "cell_type": "code",
   "execution_count": 16,
   "metadata": {},
   "outputs": [],
   "source": [
    "str = r\"I am \\r\\a\\w!\""
   ]
  },
  {
   "cell_type": "markdown",
   "metadata": {},
   "source": [
    "<hr/>"
   ]
  },
  {
   "cell_type": "markdown",
   "metadata": {},
   "source": [
    "The first metacharacter we will look at is __.__ (dot).\n",
    "This matches __any character__ (one character can come in between only to still get a match), other than a _new line_."
   ]
  },
  {
   "cell_type": "code",
   "execution_count": 24,
   "metadata": {},
   "outputs": [
    {
     "name": "stdout",
     "output_type": "stream",
     "text": [
      "Match 1\n",
      "Match 2\n",
      "Match 3\n"
     ]
    }
   ],
   "source": [
    "import re\n",
    "\n",
    "pattern = r\"gr.y\"\n",
    "\n",
    "if re.match(pattern, \"grey\"):\n",
    "    print(\"Match 1\")\n",
    "\n",
    "if re.match(pattern, \"gray\"):\n",
    "    print(\"Match 2\")\n",
    "\n",
    "if re.match(pattern, \"gr-y\"):\n",
    "    print(\"Match 3\")\n",
    "\n",
    "if re.match(pattern, \"graay\"):\n",
    "    print(\"Match 4\")\n",
    "    \n",
    "if re.match(pattern, \"blue\"):\n",
    "    print(\"Match 5\")"
   ]
  },
  {
   "cell_type": "markdown",
   "metadata": {},
   "source": [
    "What would '....' match? Any 4-character string with no newlines."
   ]
  },
  {
   "cell_type": "markdown",
   "metadata": {},
   "source": [
    "The next two metacharacters are `^` and `$` .\n",
    "These match the start and end of a string, respectively."
   ]
  },
  {
   "cell_type": "code",
   "execution_count": 26,
   "metadata": {},
   "outputs": [
    {
     "name": "stdout",
     "output_type": "stream",
     "text": [
      "Match 2\n",
      "Match 4\n"
     ]
    }
   ],
   "source": [
    "import re\n",
    "\n",
    "pattern = r\"^gr.y$\"\n",
    "\n",
    "if re.match(pattern, \"greyDude\"):\n",
    "    print(\"Match 1\")\n",
    "\n",
    "if re.match(pattern, \"gray\"):\n",
    "    print(\"Match 2\")\n",
    "\n",
    "if re.match(pattern, \"stingray\"):\n",
    "    print(\"Match 3\")\n",
    "    \n",
    "if re.match(pattern, \"grXy\"):\n",
    "    print(\"Match 4\")    "
   ]
  },
  {
   "cell_type": "markdown",
   "metadata": {},
   "source": [
    "- When we bring in `^`, it means that we would like to get a match if the given pattern is at the __beginning of a string__.\n",
    "- when we bring in `$`, it means that we would like to get a match if the given pattern is at the __end of a string__.\n",
    "- The pattern \"`^gr.y$`\" means that the string should start with gr, then follow with any character, except a newline, and end with y.\n",
    "\n"
   ]
  },
  {
   "cell_type": "markdown",
   "metadata": {},
   "source": [
    "<hr/>"
   ]
  },
  {
   "cell_type": "markdown",
   "metadata": {},
   "source": [
    "- Character classes provide a way to match only one of a specific set of characters.\n",
    "- A character class is created by putting the characters it matches inside square brackets.\n",
    "- The pattern [aeiou] in the search function matches all strings that contain any one of the characters defined."
   ]
  },
  {
   "cell_type": "code",
   "execution_count": 27,
   "metadata": {},
   "outputs": [
    {
     "name": "stdout",
     "output_type": "stream",
     "text": [
      "Match 1\n",
      "Match 2\n"
     ]
    }
   ],
   "source": [
    "import re\n",
    "\n",
    "pattern = r\"[aeiou]\"\n",
    "\n",
    "if re.search(pattern, \"grey\"):\n",
    "    print(\"Match 1\")\n",
    "\n",
    "if re.search(pattern, \"qwertyuiop\"):\n",
    "    print(\"Match 2\")\n",
    "\n",
    "if re.search(pattern, \"rhythm myths\"):\n",
    "    print(\"Match 3\")"
   ]
  },
  {
   "cell_type": "code",
   "execution_count": 31,
   "metadata": {},
   "outputs": [
    {
     "name": "stdout",
     "output_type": "stream",
     "text": [
      "Match 4\n"
     ]
    }
   ],
   "source": [
    "import re\n",
    "\n",
    "pattern = r\"[abc][def]\"\n",
    "\n",
    "if re.search(pattern, \"brey dil\"):\n",
    "    print(\"Match 1\")\n",
    "\n",
    "if re.search(pattern, \"qwertyuiop\"):\n",
    "    print(\"Match 2\")\n",
    "\n",
    "if re.search(pattern, \"rhythm myths\"):\n",
    "    print(\"Match 3\")\n",
    "    \n",
    "if re.search(pattern, \"xxxafxxx\"):\n",
    "    print(\"Match 4\")"
   ]
  },
  {
   "cell_type": "markdown",
   "metadata": {},
   "source": [
    "Any letter out of [abc] then next to it any letter out of [def]\n",
    "\n",
    "<hr/>"
   ]
  },
  {
   "cell_type": "markdown",
   "metadata": {},
   "source": [
    "- Character classes can also match ranges of characters.\n",
    "Some examples:\n",
    " - The class __[a-z]__ matches any lowercase alphabetic character.\n",
    " - The class __[G-P]__ matches any uppercase character from G to P.\n",
    " - The class __[0-9]__ matches any digit.\n",
    " - Multiple ranges can be included in one class. For example, __[A-Za-z]__ matches a letter of any case."
   ]
  },
  {
   "cell_type": "code",
   "execution_count": 33,
   "metadata": {},
   "outputs": [
    {
     "name": "stdout",
     "output_type": "stream",
     "text": [
      "Match 1\n"
     ]
    }
   ],
   "source": [
    "import re\n",
    "\n",
    "pattern = r\"[A-Z][A-Z][0-9]\"\n",
    "\n",
    "if re.search(pattern, \"LS8\"):\n",
    "    print(\"Match 1\")\n",
    "\n",
    "if re.search(pattern, \"E3\"):\n",
    "    print(\"Match 2\")\n",
    "\n",
    "if re.search(pattern, \"1ab\"):\n",
    "    print(\"Match 3\")\n",
    "    \n",
    "    '''The pattern in the example above matches strings that contain two alphabetic uppercase letters followed by a digit.'''"
   ]
  },
  {
   "cell_type": "markdown",
   "metadata": {},
   "source": [
    "<hr/>"
   ]
  },
  {
   "cell_type": "markdown",
   "metadata": {},
   "source": [
    "- Place a __^__ at the start of a character class to __invert__ it.\n",
    "- _This causes it to match any character other than the ones included._\n",
    "- Other metacharacters such as __$__ and __.__, have __no meaning__ within character classes.\n",
    "- The metacharacter __^__ has no meaning unless it is the __first character__ in a class."
   ]
  },
  {
   "cell_type": "markdown",
   "metadata": {},
   "source": [
    "- The pattern `[^A-Z]` ___excludes___ uppercase strings.\n",
    "- Note, that the __^__ should be __inside__ the _brackets_ to invert the character class."
   ]
  },
  {
   "cell_type": "code",
   "execution_count": 35,
   "metadata": {},
   "outputs": [
    {
     "name": "stdout",
     "output_type": "stream",
     "text": [
      "Match 1\n",
      "Match 2\n"
     ]
    }
   ],
   "source": [
    "import re\n",
    "\n",
    "pattern = r\"[^A-Z]\"\n",
    "\n",
    "if re.search(pattern, \"this is all quiet\"):\n",
    "    print(\"Match 1\")\n",
    "\n",
    "if re.search(pattern, \"AbCdEfG123\"):\n",
    "    print(\"Match 2\")\n",
    "\n",
    "if re.search(pattern, \"THISISALLSHOUTING\"):\n",
    "    print(\"Match 3\")"
   ]
  },
  {
   "cell_type": "markdown",
   "metadata": {},
   "source": [
    "<hr/>"
   ]
  },
  {
   "cell_type": "markdown",
   "metadata": {},
   "source": [
    "- Some more metacharacters are`*` `+` `?` `{` and `}`.\n",
    " - These specify numbers of __repetitions__.\n",
    " - The metacharacter `*` means __\"zero or more repetitions of the previous thing\"__. It tries to match as many repetitions as possible. The \"previous thing\" can be _a single character_, _a class_, or _a group of characters_ in __parentheses__."
   ]
  },
  {
   "cell_type": "code",
   "execution_count": 37,
   "metadata": {},
   "outputs": [
    {
     "name": "stdout",
     "output_type": "stream",
     "text": [
      "Match 1\n",
      "Match 2\n"
     ]
    }
   ],
   "source": [
    "import re\n",
    "\n",
    "pattern = r\"egg(spam)*\"\n",
    "''' You should see an <egg>(mandatory too see) then you can see any numbers of <spam>(from 0 to any) in the string'''\n",
    "\n",
    "if re.match(pattern, \"egg\"):\n",
    "    print(\"Match 1\")\n",
    "\n",
    "if re.match(pattern, \"eggspamspamegg\"):\n",
    "    print(\"Match 2\")\n",
    "\n",
    "if re.match(pattern, \"spam\"):\n",
    "    print(\"Match 3\")"
   ]
  },
  {
   "cell_type": "markdown",
   "metadata": {},
   "source": [
    "`\"[a^]*\"`\n",
    "zero or more repetitions of `a` or `^`"
   ]
  },
  {
   "cell_type": "markdown",
   "metadata": {},
   "source": [
    "<hr/>"
   ]
  },
  {
   "cell_type": "markdown",
   "metadata": {},
   "source": [
    "The metacharacter + is very similar to *, except it means \"one or more repetitions\", as opposed to \"zero or more repetitions\"."
   ]
  },
  {
   "cell_type": "code",
   "execution_count": 41,
   "metadata": {},
   "outputs": [
    {
     "name": "stdout",
     "output_type": "stream",
     "text": [
      "Match 1\n",
      "Match 2\n"
     ]
    }
   ],
   "source": [
    "import re\n",
    "\n",
    "pattern = r\"g+\"\n",
    "\n",
    "if re.match(pattern, \"g\"):\n",
    "    print(\"Match 1\")\n",
    "\n",
    "if re.match(pattern, \"gggggggggggggg\"):\n",
    "    print(\"Match 2\")\n",
    "\n",
    "if re.match(pattern, \"abc\"):\n",
    "    print(\"Match 3\")"
   ]
  },
  {
   "cell_type": "markdown",
   "metadata": {},
   "source": [
    "The metacharacter `?` means \"__zero__ or __one__ repetitions\"."
   ]
  },
  {
   "cell_type": "code",
   "execution_count": 42,
   "metadata": {},
   "outputs": [
    {
     "name": "stdout",
     "output_type": "stream",
     "text": [
      "Match 1\n",
      "Match 2\n"
     ]
    }
   ],
   "source": [
    "import re\n",
    "\n",
    "pattern = r\"ice(-)?cream\"\n",
    "\n",
    "if re.match(pattern, \"ice-cream\"):\n",
    "    print(\"Match 1\")\n",
    "\n",
    "if re.match(pattern, \"icecream\"):\n",
    "    print(\"Match 2\")\n",
    "\n",
    "if re.match(pattern, \"sausages\"):\n",
    "    print(\"Match 3\")\n",
    "\n",
    "if re.match(pattern, \"ice--ice\"):\n",
    "    print(\"Match 4\")"
   ]
  },
  {
   "cell_type": "markdown",
   "metadata": {},
   "source": [
    "- Write a patter to match both 'color' and 'colour'.\n",
    " - `pattern = r\"colo(u)?r\"`"
   ]
  },
  {
   "cell_type": "markdown",
   "metadata": {},
   "source": [
    "<hr/>"
   ]
  },
  {
   "cell_type": "markdown",
   "metadata": {},
   "source": [
    "__Curly braces___ can be used to represent the __number of repetitions__ between two numbers.\n",
    "- The regex `{x,y}` means \"between `x` and `y` repetitions of something\".\n",
    "- Hence `{0,1}` is the same thing as `?`.\n",
    "- If the first number is missing, it is taken to be zero. If the second number is missing, it is taken to be infinity."
   ]
  },
  {
   "cell_type": "code",
   "execution_count": 45,
   "metadata": {},
   "outputs": [
    {
     "name": "stdout",
     "output_type": "stream",
     "text": [
      "Match 1\n",
      "Match 2\n",
      "Match 4\n"
     ]
    }
   ],
   "source": [
    "import re\n",
    "'''9{1,3}$\" matches string that have 1 to 3 nines.'''\n",
    "pattern = r\"9{1,3}$\"\n",
    "\n",
    "if re.match(pattern, \"9\"):\n",
    "    print(\"Match 1\")\n",
    "\n",
    "if re.match(pattern, \"999\"):\n",
    "    print(\"Match 2\")\n",
    "\n",
    "if re.match(pattern, \"9999\"):\n",
    "    print(\"Match 3\")\n",
    "\n",
    "'''9{1, }$\" matches string that have 1 to unlimited(infinity) nines.'''\n",
    "pattern = r\"9{1,}$\"\n",
    "if re.match(pattern, \"99999999999999999999999\"):\n",
    "    print(\"Match 4\")"
   ]
  },
  {
   "cell_type": "markdown",
   "metadata": {},
   "source": [
    "<hr/>"
   ]
  },
  {
   "cell_type": "markdown",
   "metadata": {},
   "source": [
    "A group can be created by surrounding part of a regular expression with parentheses.\n",
    "This means that a group can be given as an argument to metacharacters such as * and ?."
   ]
  },
  {
   "cell_type": "code",
   "execution_count": 47,
   "metadata": {},
   "outputs": [
    {
     "name": "stdout",
     "output_type": "stream",
     "text": [
      "Match 1\n",
      "Match 2\n"
     ]
    }
   ],
   "source": [
    "import re\n",
    "\n",
    "pattern = r\"egg(spam)*\"\n",
    "\n",
    "if re.match(pattern, \"egg\"):\n",
    "    print(\"Match 1\")\n",
    "\n",
    "if re.match(pattern, \"eggspamspamspamegg\"):\n",
    "    print(\"Match 2\")\n",
    "\n",
    "if re.match(pattern, \"spam\"):\n",
    "    print(\"Match 3\")"
   ]
  },
  {
   "cell_type": "markdown",
   "metadata": {},
   "source": [
    "- What would '([^aeiou][aeiou][^aeiou])+' match?\n",
    "\n",
    " - One or more repetitions of a non-vowel, a vowel and a non-vowel\n",
    "\n"
   ]
  },
  {
   "cell_type": "markdown",
   "metadata": {},
   "source": [
    "<hr/>\n"
   ]
  },
  {
   "cell_type": "markdown",
   "metadata": {},
   "source": [
    "- The content of groups in a match can be accessed using the group function.\n",
    " - A call of group(0) or group() returns the whole match.\n",
    " - A call of group(n), where n is greater than 0, returns the nth group from the left.\n",
    " - The method groups() returns all groups up from 1."
   ]
  },
  {
   "cell_type": "code",
   "execution_count": 49,
   "metadata": {},
   "outputs": [
    {
     "name": "stdout",
     "output_type": "stream",
     "text": [
      "abcdefghi\n",
      "abcdefghi\n",
      "bc\n",
      "de\n",
      "fgh\n",
      "('bc', 'de', 'fgh', 'g')\n"
     ]
    }
   ],
   "source": [
    "import re\n",
    "\n",
    "pattern = r\"a(bc)(de)(f(g)h)i\"\n",
    "\n",
    "match = re.match(pattern, \"abcdefghijklmnop\")\n",
    "if match:\n",
    "    print(match.group())\n",
    "    print(match.group(0))\n",
    "    print(match.group(1))\n",
    "    print(match.group(2))\n",
    "    print(match.group(3))\n",
    "    print(match.groups())"
   ]
  },
  {
   "cell_type": "code",
   "execution_count": 58,
   "metadata": {},
   "outputs": [
    {
     "name": "stdout",
     "output_type": "stream",
     "text": [
      "23\n",
      "45678\n",
      "56\n",
      "0\n"
     ]
    }
   ],
   "source": [
    "pattern2 = r\"1(23)(4(56)78)9(0)\"\n",
    "match = re.match(pattern2, \"1234567890123456789\")\n",
    "print(match.group(1))\n",
    "print(match.group(2))\n",
    "print(match.group(3))\n",
    "print(match.group(4))\n",
    "# print(match.group(5)) This returns error because there are only 4 groups: {(23),(45678),(56),(0)}"
   ]
  },
  {
   "cell_type": "markdown",
   "metadata": {},
   "source": [
    "<hr/>"
   ]
  },
  {
   "cell_type": "markdown",
   "metadata": {},
   "source": [
    "- There are several kinds of special groups.\n",
    "- Two useful ones are __named groups__ and __non-capturing__ groups.\n",
    "- __Named groups__ have the format `(?P<name>...)`, where `name` is the _name of the group_, and `...` is the _content_. They behave exactly the same as normal groups, except they can be accessed by group(name) in addition to its number.\n",
    "- __Non-capturing__ groups have the format `(?:...)`. They are __not accessible__ by the `group()` method, so they can be added to an existing regular expression without breaking the numbering."
   ]
  },
  {
   "cell_type": "code",
   "execution_count": 59,
   "metadata": {},
   "outputs": [
    {
     "name": "stdout",
     "output_type": "stream",
     "text": [
      "abc\n",
      "('abc', 'ghi')\n"
     ]
    }
   ],
   "source": [
    "import re\n",
    "\n",
    "pattern = r\"(?P<first>abc)(?:def)(ghi)\"\n",
    "\n",
    "match = re.match(pattern, \"abcdefghi\")\n",
    "if match:\n",
    "    print(match.group(\"first\"))\n",
    "    print(match.groups())"
   ]
  },
  {
   "cell_type": "code",
   "execution_count": 64,
   "metadata": {},
   "outputs": [
    {
     "name": "stdout",
     "output_type": "stream",
     "text": [
      "('a', 'bcde', 'd')\n"
     ]
    }
   ],
   "source": [
    "pattern = r\"(a)(b(?:c)(d)(?:e))\" # (a)(bc(d)e)\n",
    "match = re.match(pattern, \"abcdefghi\")\n",
    "len(match.groups())\n",
    "print(match.groups())"
   ]
  },
  {
   "cell_type": "markdown",
   "metadata": {},
   "source": [
    "Another important metacharacter is `|`.\n",
    "This means __\"or\"__, so red|blue matches either \"red\" or \"blue\"."
   ]
  },
  {
   "cell_type": "code",
   "execution_count": 66,
   "metadata": {},
   "outputs": [
    {
     "name": "stdout",
     "output_type": "stream",
     "text": [
      "Match 1\n",
      "Match 2\n"
     ]
    }
   ],
   "source": [
    "import re\n",
    "\n",
    "pattern = r\"gr(a|e)y\"\n",
    "\n",
    "match = re.match(pattern, \"gray\")\n",
    "if match:\n",
    "    print (\"Match 1\")\n",
    "\n",
    "match = re.match(pattern, \"grey\")\n",
    "if match:\n",
    "    print (\"Match 2\")    \n",
    "\n",
    "match = re.match(pattern, \"griy\")\n",
    "if match:\n",
    "     print (\"Match 3\")\n",
    "        \n"
   ]
  },
  {
   "cell_type": "markdown",
   "metadata": {},
   "source": [
    "There are various special sequences you can use in regular expressions. They are written as a __backslash__ followed by another character.\n",
    "One useful special sequence is a backslash and a number between 1 and 99, e.g., `\\1` or `\\17`. This matches the expression of the group of that number."
   ]
  },
  {
   "cell_type": "code",
   "execution_count": 79,
   "metadata": {},
   "outputs": [
    {
     "name": "stdout",
     "output_type": "stream",
     "text": [
      "Match 1\n",
      "Match 2\n"
     ]
    }
   ],
   "source": [
    "import re\n",
    "\n",
    "pattern = r\"(.+) \\1\"\n",
    "\n",
    "match = re.match(pattern, \"word word word\")\n",
    "if match:\n",
    "    print (\"Match 1\")\n",
    "\n",
    "match = re.match(pattern, \"?! ?!\")\n",
    "if match:\n",
    "    print (\"Match 2\")    \n",
    "\n",
    "match = re.match(pattern, \"abc cde\")\n",
    "if match:\n",
    "    print (\"Match 3\")"
   ]
  },
  {
   "cell_type": "markdown",
   "metadata": {},
   "source": [
    "Note, that `\"(.+) \\1\"` is not the same as `\"(.+) (.+)\"`, because `\\1` refers to the first group's subexpression, which is the matched expression itself, and not the regex pattern."
   ]
  },
  {
   "cell_type": "markdown",
   "metadata": {},
   "source": [
    "More useful special sequences are `\\d`, `\\s`, and `\\w`.\n",
    "These match digits, whitespace, and word characters respectively.\n",
    "In ASCII mode they are equivalent to `[0-9]`, `[ \\t\\n\\r\\f\\v]`, and `[a-zA-Z0-9_]`.\n",
    "In Unicode mode they match certain other characters, as well. For instance, \\w matches letters with accents.\n",
    "Versions of these special sequences with upper case letters - `\\D`, `\\S`, and `\\W` - mean the opposite to the lower-case versions. For instance, `\\D` matches anything that isn't a digit."
   ]
  },
  {
   "cell_type": "code",
   "execution_count": 80,
   "metadata": {},
   "outputs": [
    {
     "name": "stdout",
     "output_type": "stream",
     "text": [
      "Match 1\n"
     ]
    }
   ],
   "source": [
    "import re\n",
    "\n",
    "pattern = r\"(\\D+\\d)\"\n",
    "\n",
    "match = re.match(pattern, \"Hi 999!\")\n",
    "if match:\n",
    "    print(\"Match 1\")\n",
    "\n",
    "match = re.match(pattern, \"1, 23, 456!\")\n",
    "if match:\n",
    "    print(\"Match 2\")\n",
    "\n",
    "match = re.match(pattern, \" ! $?\")\n",
    "if match:\n",
    "    print(\"Match 3\")"
   ]
  },
  {
   "cell_type": "markdown",
   "metadata": {},
   "source": [
    "Additional special sequences are `\\A`, `\\Z`, and `\\b`.\n",
    "The sequences `\\A` and `\\Z` match the beginning and end of a string, respectively.\n",
    "The sequence `\\b` matches the empty string between `\\w` and `\\W` characters, or `\\w` characters and the beginning or end of the string. Informally, it represents the boundary between words.\n",
    "The sequence `\\B` matches the empty string anywhere else."
   ]
  },
  {
   "cell_type": "code",
   "execution_count": 83,
   "metadata": {},
   "outputs": [
    {
     "name": "stdout",
     "output_type": "stream",
     "text": [
      "Match 1\n",
      "Match 2\n"
     ]
    }
   ],
   "source": [
    "import re\n",
    "\n",
    "pattern = r\"\\b(cat)\\b\"\n",
    "\n",
    "match = re.search(pattern, \"The cat sat!\")\n",
    "if match:\n",
    "    print (\"Match 1\")\n",
    "\n",
    "match = re.search(pattern, \"We s>cat<tered?\")\n",
    "if match:\n",
    "    print (\"Match 2\")\n",
    "\n",
    "match = re.search(pattern, \"We scattered.\")\n",
    "if match:\n",
    "    print (\"Match 3\")\n",
    "\n",
    "# \\b(cat)\\b\" basically matches the word \"cat\" surrounded by word boundaries. "
   ]
  },
  {
   "cell_type": "markdown",
   "metadata": {},
   "source": [
    "## Email Extraction\n",
    "\n",
    "\n",
    "- To demonstrate a sample usage of regular expressions, lets create a program to extract email addresses from a string.\n",
    "Suppose we have a text that contains an email address:\n",
    "`str = \"Please contact info@sololearn.com for assistance\"`\n",
    "\n",
    "- Our goal is to extract the substring \"info@sololearn.com\".\n",
    "- A basic email address consists of a word and may include dots or dashes. This is followed by the @ sign and the domain name (the name, a dot, and the domain name suffix).\n",
    "- This is the basis for building our regular expression.\n",
    "`pattern = r\"([\\w\\.-]+)@([\\w\\.-]+)(\\.[\\w\\.]+)\"`\n",
    "\n",
    "- `[\\w\\.-]+` matches one or more word character, dot or dash.\n",
    "- The regex above says that the string should contain a word (with dots and dashes allowed), followed by the @ sign, then another similar word, then a dot and another word.\n",
    "- Our regex contains three groups:\n",
    "  - first part of the email address.\n",
    "  - domain name without the suffix.\n",
    "  - the domain suffix."
   ]
  },
  {
   "cell_type": "markdown",
   "metadata": {},
   "source": [
    "- In case the string contains multiple email addresses, we could use the re.findall method instead of re.search, to extract all email addresses.\n",
    "- The regex in this example is for demonstration purposes only.\n",
    "- A much more complex regex is required to fully validate an email address."
   ]
  },
  {
   "cell_type": "code",
   "execution_count": 84,
   "metadata": {},
   "outputs": [
    {
     "name": "stdout",
     "output_type": "stream",
     "text": [
      "info@sololearn.com\n"
     ]
    }
   ],
   "source": [
    "import re\n",
    "\n",
    "pattern = r\"([\\w\\.-]+)@([\\w\\.-]+)(\\.[\\w\\.]+)\"\n",
    "str = \"Please contact info@sololearn.com for assistance\"\n",
    "\n",
    "match = re.search(pattern, str)\n",
    "if match:\n",
    "    print(match.group())"
   ]
  },
  {
   "cell_type": "markdown",
   "metadata": {},
   "source": [
    "<hr/>\n",
    "\n",
    "## Python Zen"
   ]
  },
  {
   "cell_type": "markdown",
   "metadata": {},
   "source": [
    "- Writing programs that actually do what they are supposed to do is just one component of being a good Python programmer.\n",
    "It's also important to write clean code that is easily understood, even weeks after you've written it.\n",
    "<br/>\n",
    "- One way of doing this is to follow the Zen of Python, a somewhat tongue-in-cheek set of principles that serves as a guide to programming the Pythoneer way. Use the following code to access the Zen of Python."
   ]
  },
  {
   "cell_type": "code",
   "execution_count": 85,
   "metadata": {},
   "outputs": [
    {
     "name": "stdout",
     "output_type": "stream",
     "text": [
      "The Zen of Python, by Tim Peters\n",
      "\n",
      "Beautiful is better than ugly.\n",
      "Explicit is better than implicit.\n",
      "Simple is better than complex.\n",
      "Complex is better than complicated.\n",
      "Flat is better than nested.\n",
      "Sparse is better than dense.\n",
      "Readability counts.\n",
      "Special cases aren't special enough to break the rules.\n",
      "Although practicality beats purity.\n",
      "Errors should never pass silently.\n",
      "Unless explicitly silenced.\n",
      "In the face of ambiguity, refuse the temptation to guess.\n",
      "There should be one-- and preferably only one --obvious way to do it.\n",
      "Although that way may not be obvious at first unless you're Dutch.\n",
      "Now is better than never.\n",
      "Although never is often better than *right* now.\n",
      "If the implementation is hard to explain, it's a bad idea.\n",
      "If the implementation is easy to explain, it may be a good idea.\n",
      "Namespaces are one honking great idea -- let's do more of those!\n"
     ]
    }
   ],
   "source": [
    "import this"
   ]
  },
  {
   "cell_type": "markdown",
   "metadata": {},
   "source": [
    "Some lines in the Zen of Python may need more explanation:\n",
    "- `Explicit is better than implicit`: It is best to spell out exactly what your code is doing. This is why adding a numeric string to an integer requires explicit conversion, rather than having it happen behind the scenes, as it does in other languages.\n",
    "- `Flat is better than nested`: Heavily nested structures (lists of lists, of lists, and on and on…) should be avoided.\n",
    "- `Errors should never pass silently`: In general, when an error occurs, you should output some sort of error message, rather than ignoring it.\n",
    "- The line `There should be one - and preferably only one - obvious way to do it` references and contradicts the Perl language philosophy that there should be more than one way to do it.\n",
    "- There are 20 principles in the Zen of Python, but only 19 lines of text.\n",
    "- The 20th principle is a matter of opinion, but our interpretation is that the blank line means \"Use whitespace\"."
   ]
  },
  {
   "cell_type": "markdown",
   "metadata": {},
   "source": [
    "### Python Enhancement Proposals (PEP) \n",
    "PEP are suggestions for improvements to the language, made by experienced Python developers.\n",
    "PEP 8 is a style guide on the subject of writing readable code. It contains a number of guidelines in reference to variable names, which are summarized here:\n",
    "- __modules__ should have short, `all-lowercase` names;\n",
    "- __class names__ should be in the `CapWords` style;\n",
    "- most __variables__ and function names should be `lowercase_with_underscores`;\n",
    "- __constants__ (variables that never change value) should be `CAPS_WITH_UNDERSCORES`;\n",
    "- names that would clash with Python keywords (such as 'class' or 'if') should have a trailing underscore.\n",
    "\n",
    "PEP 8 also recommends using spaces around operators and after commas to increase readability.\n",
    "\n",
    "However, whitespace should not be overused. For instance, avoid having any space directly inside any type of brackets."
   ]
  },
  {
   "cell_type": "markdown",
   "metadata": {},
   "source": [
    "Other PEP 8 suggestions include the following:\n",
    "- lines shouldn't be longer than __80__ characters;\n",
    "- 'from module import *' should be avoided;\n",
    "- there should only be one statement per line.\n",
    "\n",
    "It also suggests that you use spaces, rather than tabs, to indent. However, to some extent, this is a matter of personal preference. If you use spaces, only use 4 per line. It's more important to choose one and stick to it.\n",
    "\n",
    "The most important advice in the PEP is to ignore it when it makes sense to do so. __Don't bother with following PEP suggestions when it would cause your code to be less readable__; inconsistent with the surrounding code; or not backwards compatible.\n",
    "However, by and large, following PEP 8 will greatly enhance the quality of your code.\n",
    "Some other notable PEPs that cover code style:\n",
    "PEP 20: The Zen of Python\n",
    "PEP 257: Style Conventions for Docstrings"
   ]
  },
  {
   "cell_type": "markdown",
   "metadata": {},
   "source": [
    "### Function Arguments\n",
    "Python allows to have function with varying number of arguments.\n",
    "\n",
    "Using _*args_ as a function parameter enables you to pass an _arbitrary number_ of arguments to that function. The arguments are then accessible as the __tuple__ `args` in the _body of the function_."
   ]
  },
  {
   "cell_type": "code",
   "execution_count": 86,
   "metadata": {},
   "outputs": [
    {
     "name": "stdout",
     "output_type": "stream",
     "text": [
      "1\n",
      "(2, 3, 4, 5)\n"
     ]
    }
   ],
   "source": [
    "def function(named_arg, *args):\n",
    "    print(named_arg)\n",
    "    print(args)\n",
    "\n",
    "function(1, 2, 3, 4, 5)"
   ]
  },
  {
   "cell_type": "markdown",
   "metadata": {},
   "source": [
    "The parameter `*args` must come __after__ the _named parameters_ to a function.\n",
    "The name args is just a _convention_; you can choose to use another."
   ]
  },
  {
   "cell_type": "markdown",
   "metadata": {},
   "source": [
    "### Default Values\n",
    "\n",
    "`Named parameters` to a function can be made optional by giving them a default value.\n",
    "These must come __after__ _named parameters_ without a default value."
   ]
  },
  {
   "cell_type": "code",
   "execution_count": 87,
   "metadata": {},
   "outputs": [
    {
     "name": "stdout",
     "output_type": "stream",
     "text": [
      "spam\n",
      "egg\n"
     ]
    }
   ],
   "source": [
    "def function(x, y, food=\"spam\"):\n",
    "    print(food)\n",
    "\n",
    "function(1, 2)\n",
    "function(3, 4, \"egg\")"
   ]
  },
  {
   "cell_type": "markdown",
   "metadata": {},
   "source": [
    "- In case the argument is passed in, the default value is ignored.\n",
    "- If the argument is not passed in, the default value is used."
   ]
  },
  {
   "cell_type": "markdown",
   "metadata": {},
   "source": [
    "`**kwargs` __(standing for keyword arguments)__ allows you to handle named arguments that you have __not defined in advance__.\n",
    "The keyword arguments return a __dictionary__ in which the keys are the argument names, and the values are the argument values."
   ]
  },
  {
   "cell_type": "code",
   "execution_count": 88,
   "metadata": {},
   "outputs": [
    {
     "name": "stdout",
     "output_type": "stream",
     "text": [
      "{'a': 7, 'b': 8}\n"
     ]
    }
   ],
   "source": [
    "def my_func(x, y=7, *args, **kwargs):\n",
    "    print(kwargs)\n",
    "\n",
    "my_func(2, 3, 4, 5, 6, a=7, b=8)"
   ]
  },
  {
   "cell_type": "markdown",
   "metadata": {},
   "source": [
    "NOTE: ___The arguments returned by `**kwargs` are <u>not included</u> in *args.___"
   ]
  },
  {
   "cell_type": "markdown",
   "metadata": {},
   "source": [
    "### Tuple unpacking \n",
    "allows you to assign each item in an iterable (often a tuple) to a variable."
   ]
  },
  {
   "cell_type": "code",
   "execution_count": 89,
   "metadata": {},
   "outputs": [
    {
     "name": "stdout",
     "output_type": "stream",
     "text": [
      "1\n",
      "2\n",
      "3\n"
     ]
    }
   ],
   "source": [
    "numbers = (1, 2, 3)\n",
    "a, b, c = numbers\n",
    "print(a)\n",
    "print(b)\n",
    "print(c)"
   ]
  },
  {
   "cell_type": "markdown",
   "metadata": {},
   "source": [
    "This can be also used to swap variables by doing `a, b = b, a` , since `b`, `a` on the right hand side forms the tuple `(b, a)` which is then unpacked."
   ]
  },
  {
   "cell_type": "code",
   "execution_count": 90,
   "metadata": {},
   "outputs": [
    {
     "data": {
      "text/plain": [
       "(2, 1)"
      ]
     },
     "execution_count": 90,
     "metadata": {},
     "output_type": "execute_result"
    }
   ],
   "source": [
    "x, y = [1, 2]\n",
    "x, y = y, x\n",
    "x,y"
   ]
  },
  {
   "cell_type": "markdown",
   "metadata": {},
   "source": [
    "A variable that is prefaced with an asterisk `(*)` takes all values from the iterable that are left over from the other variables."
   ]
  },
  {
   "cell_type": "code",
   "execution_count": 91,
   "metadata": {},
   "outputs": [
    {
     "name": "stdout",
     "output_type": "stream",
     "text": [
      "1\n",
      "2\n",
      "[3, 4, 5, 6, 7, 8]\n",
      "9\n"
     ]
    }
   ],
   "source": [
    "a, b, *c, d = [1, 2, 3, 4, 5, 6, 7, 8, 9]\n",
    "print(a)\n",
    "print(b)\n",
    "print(c)\n",
    "print(d)"
   ]
  },
  {
   "cell_type": "code",
   "execution_count": 92,
   "metadata": {},
   "outputs": [
    {
     "name": "stdout",
     "output_type": "stream",
     "text": [
      "14\n"
     ]
    }
   ],
   "source": [
    "a, b, c, d, *e, f, g = range(20)\n",
    "print(len(e))"
   ]
  },
  {
   "cell_type": "markdown",
   "metadata": {},
   "source": [
    "### Ternary Operator\n",
    "Conditional expressions provide the functionality of if statements while using less code. They shouldn't be overused, as they can easily reduce readability, but they are often useful when assigning variables.\n",
    "Conditional expressions are also known as applications of the ternary."
   ]
  },
  {
   "cell_type": "code",
   "execution_count": 93,
   "metadata": {},
   "outputs": [
    {
     "name": "stdout",
     "output_type": "stream",
     "text": [
      "1\n"
     ]
    }
   ],
   "source": [
    "a = 7\n",
    "b = 1 if a >= 5 else 42\n",
    "print(b)"
   ]
  },
  {
   "cell_type": "markdown",
   "metadata": {},
   "source": [
    "The ternary operator checks the condition and returns the corresponding value.\n",
    "In the example above, as the condition is true, b is assigned 1. If a was less than 5, it would have been assigned 42."
   ]
  },
  {
   "cell_type": "code",
   "execution_count": 94,
   "metadata": {},
   "outputs": [
    {
     "name": "stdout",
     "output_type": "stream",
     "text": [
      "Logout\n"
     ]
    }
   ],
   "source": [
    "status  = 1\n",
    "msg = \"Logout\" if status == 1 else \"Login\"\n",
    "\n",
    "print(msg)\n"
   ]
  },
  {
   "cell_type": "code",
   "execution_count": 96,
   "metadata": {},
   "outputs": [
    {
     "name": "stdout",
     "output_type": "stream",
     "text": [
      "2\n"
     ]
    }
   ],
   "source": [
    "b = 1 if 2+2 == 5 else 2\n",
    "print(b)"
   ]
  },
  {
   "cell_type": "markdown",
   "metadata": {},
   "source": [
    "### Else with Loop\n",
    "- The else statement is most commonly used along with the if statement, but it can also follow a for or __while loop__, which gives it a different meaning.\n",
    "- With the for or while loop, the code within it is called if the loop finishes normally (when a break statement does not cause an exit from the loop)."
   ]
  },
  {
   "cell_type": "code",
   "execution_count": 97,
   "metadata": {},
   "outputs": [
    {
     "name": "stdout",
     "output_type": "stream",
     "text": [
      "Unbroken 1\n"
     ]
    }
   ],
   "source": [
    "for i in range(10):\n",
    "    if i == 999:\n",
    "        break\n",
    "else:\n",
    "    print(\"Unbroken 1\")\n",
    "\n",
    "for i in range(10):\n",
    "    if i == 5:\n",
    "        break\n",
    "else:\n",
    "    print(\"Unbroken 2\")"
   ]
  },
  {
   "cell_type": "markdown",
   "metadata": {},
   "source": [
    "If something breaks the chain of the loops and it doesn't get finished normally (It's finished normally when the counter reaches it's goal), the `else` will not be executed."
   ]
  },
  {
   "cell_type": "code",
   "execution_count": 98,
   "metadata": {},
   "outputs": [
    {
     "name": "stdout",
     "output_type": "stream",
     "text": [
      "6\n"
     ]
    }
   ],
   "source": [
    "for i in range(10):\n",
    "   if i > 5:\n",
    "      print(i)\n",
    "      break\n",
    "else:\n",
    "   print(\"7\")"
   ]
  },
  {
   "cell_type": "markdown",
   "metadata": {},
   "source": [
    "The else statement can also be used with try/except statements.\n",
    "In this case, the code within it is only executed if no error occurs in the try statement."
   ]
  },
  {
   "cell_type": "code",
   "execution_count": 99,
   "metadata": {},
   "outputs": [
    {
     "name": "stdout",
     "output_type": "stream",
     "text": [
      "1\n",
      "3\n",
      "4\n"
     ]
    }
   ],
   "source": [
    "try:\n",
    "    print(1)\n",
    "except ZeroDivisionError:\n",
    "    print(2)\n",
    "else:\n",
    "    print(3)\n",
    "\n",
    "try:\n",
    "    print(1/0)\n",
    "except ZeroDivisionError:\n",
    "    print(4)\n",
    "else:\n",
    "    print(5)"
   ]
  },
  {
   "cell_type": "code",
   "execution_count": 100,
   "metadata": {},
   "outputs": [
    {
     "name": "stdout",
     "output_type": "stream",
     "text": [
      "1\n",
      "3\n"
     ]
    }
   ],
   "source": [
    "try:\n",
    "  print(1)\n",
    "  print(1 + \"1\" == 2)\n",
    "  print(2)\n",
    "except TypeError:\n",
    "  print(3)\n",
    "else:\n",
    "  print(4)\n"
   ]
  },
  {
   "cell_type": "markdown",
   "metadata": {},
   "source": [
    "## `__main__`\n",
    "\n",
    "Most Python code is either a module to be imported, or a script that does something.\n",
    "However, sometimes it is useful to make a file that can be both imported as a module and run as a script.\n",
    "To do this, place script code inside if __name__ == \"__main__\".\n",
    "This ensures that it won't be run if the file is imported."
   ]
  },
  {
   "cell_type": "code",
   "execution_count": 101,
   "metadata": {},
   "outputs": [
    {
     "name": "stdout",
     "output_type": "stream",
     "text": [
      "This is a script\n"
     ]
    }
   ],
   "source": [
    "def function():\n",
    "    print(\"This is a module function\")\n",
    "\n",
    "if __name__==\"__main__\":\n",
    "    print(\"This is a script\")"
   ]
  },
  {
   "cell_type": "markdown",
   "metadata": {},
   "source": [
    "- When the Python interpreter reads a source file, it executes all of the code it finds in the file. Before executing the code, it defines a few special variables.\n",
    "- __For example__: if the Python interpreter is running that module (the source file) as the main program, it sets the special __name__ variable to have a value `\"__main__\"`. If this file is being imported from another module, `__name__` will be set to the module's name."
   ]
  },
  {
   "cell_type": "markdown",
   "metadata": {},
   "source": [
    "### Major 3rd-Party Libraries\n",
    "\n",
    "\n",
    "- The Python standard library alone contains extensive functionality.\n",
    "- However, some tasks require the use of third-party libraries. Some major third-party libraries:\n",
    "- `Djang`: The most frequently used __web framework__ written in Python, Django powers websites that include _Instagram_ and _Disqus_. It has many useful features, and whatever features it lacks are covered by extension packages.\n",
    "- `CherryPy` and `Flask` are also popular __web frameworks__.\n",
    "\n",
    "- __For scraping data from websites__, the library `BeautifulSoup` is very useful, and leads to better results than building your own scraper with regular expressions.\n",
    "\n",
    "While Python does offer modules for programmatically accessing websites, such as urllib, they are quite cumbersome to use. Third-party library requests make it much easier to use _HTTP requests_.\n",
    "\n",
    "\n",
    "A number of third-party modules are available that make it much easier to carry out scientific and mathematical computing with Python.\n",
    "- The module `matplotlib` allows you to __create graphs based on data in Python__.\n",
    "- The module `NumPy` allows for the use of __multidimensional arrays that are much faster than the native Python solution of nested lists__. It also contains functions to perform mathematical operations such as matrix transformations on the arrays.\n",
    "- The library `SciPy` contains numerous extensions to the functionality of NumPy.\n",
    "\n",
    "Python can also be used for __game development__.\n",
    "Usually, it is used as a scripting language for games written in other languages, but it can be used to make games by itself.\n",
    "For __3D games__, the library `Panda3D` can be used. For __2D games__, you can use `pygame`."
   ]
  },
  {
   "cell_type": "markdown",
   "metadata": {},
   "source": [
    "### Packaging\n",
    "\n",
    "\n",
    "- In Python, the term packaging refers to putting modules you have written in a standard format, so that other programmers can install and use them with ease.\n",
    "\n",
    "- This involves use of the modules setuptools and distutils.\n",
    "\n",
    "- The first step in packaging is to organize existing files correctly. Place all of the files you want to put in a library in the same parent directory. This directory should also contain a file called `__init__.py`, which can be blank but must be present in the directory.\n",
    "\n",
    "- This directory goes into another directory containing the readme and license, as well as an important file called `setup.py`.\n",
    "Example directory structure:\n",
    "\n",
    "`\n",
    "SoloLearn/\n",
    "   LICENSE.txt\n",
    "   README.txt\n",
    "   setup.py\n",
    "   sololearn/\n",
    "      __init__.py\n",
    "      sololearn.py\n",
    "      sololearn2.py\n",
    "`\n",
    "\n",
    "The next step in packaging is to write the `setup.py` file.\n",
    "This contains information necessary to _assemble the package_ so it can be uploaded to `PyPI` and installed with pip (name, version, etc.).\n",
    "Example of a `setup.py` file:\n",
    "`\n",
    "from distutils.core import setup\n",
    "\n",
    "setup(\n",
    "   name='SoloLearn', \n",
    "   version='0.1dev',\n",
    "   packages=['sololearn',],\n",
    "   license='MIT', \n",
    "   long_description=open('README.txt').read(),\n",
    ")\n",
    "`\n",
    "- After creating the setup.py file, upload it to `PyPI`, or use the command line to create a binary distribution (an executable installer).\n",
    "\n",
    "- To build a source distribution, use the command line to navigate to the directory containing `setup.py`, and run the command ` python setup.py sdist`.\n",
    "\n",
    "- Run python `setup.py` bdist or, for Windows, python setup.py bdist_wininst to build a binary distribution.\n",
    "\n",
    "- Use python setup.py register, followed by python setup.py sdist upload to upload a package.\n",
    "\n",
    "- Finally, install a package with python `setup.py` install.\n",
    "\n",
    "\n",
    "### Making Executable Files\n",
    "The previous lesson covered packaging modules for use by other Python programmers. However, many computer users who are not programmers do not have Python installed. Therefore, it is useful to package scripts as executable files for the relevant platform, such as the Windows or Mac operating systems. This is not necessary for Linux, as most Linux users do have Python installed, and are able to run scripts as they are.\n",
    "\n",
    "- __For Windows, many tools are available for converting scripts to executables.__ For example, `py2exe`, can be used to package a Python script, along with the libraries it requires, into a single executable.\n",
    "- `PyInstaller` and `cx_Freeze` serve the same purpose.\n",
    "- For `Macs`, use `py2app`, `PyInstaller` or `cx_Freeze`."
   ]
  },
  {
   "cell_type": "code",
   "execution_count": 110,
   "metadata": {},
   "outputs": [
    {
     "name": "stdout",
     "output_type": "stream",
     "text": [
      "I-love-Python-!\n"
     ]
    }
   ],
   "source": [
    "def concatenate(*args):\n",
    "    string = \"\"\n",
    "    for item in args:\n",
    "        string += item + \"-\"\n",
    "    st = string[:-1]\n",
    "    return st\n",
    "    \n",
    "\n",
    "print(concatenate(\"I\", \"love\", \"Python\", \"!\"))"
   ]
  },
  {
   "cell_type": "markdown",
   "metadata": {},
   "source": [
    "#### Quiz: Longest Word\n",
    "\n",
    "Given a text as input, find and output the longest word.\n",
    "\n",
    "- Sample Input:\n",
    " - this is an awesome text\n",
    "\n",
    "- Sample Output\n",
    " - awesome"
   ]
  },
  {
   "cell_type": "code",
   "execution_count": 112,
   "metadata": {},
   "outputs": [
    {
     "name": "stdout",
     "output_type": "stream",
     "text": [
      "lorem ipsum is awesome gyus\n"
     ]
    },
    {
     "data": {
      "text/plain": [
       "'awesome'"
      ]
     },
     "execution_count": 112,
     "metadata": {},
     "output_type": "execute_result"
    }
   ],
   "source": [
    "\n",
    "def longest_word(txt):\n",
    "    words = txt.split(\" \")\n",
    "    lengths = [len(x) for x in words]\n",
    "    word = words[lengths.index(max(lengths))]\n",
    "    return word\n",
    "\n",
    "longest_word(input())"
   ]
  },
  {
   "cell_type": "code",
   "execution_count": null,
   "metadata": {},
   "outputs": [],
   "source": []
  }
 ],
 "metadata": {
  "kernelspec": {
   "display_name": "Python 3",
   "language": "python",
   "name": "python3"
  },
  "language_info": {
   "codemirror_mode": {
    "name": "ipython",
    "version": 3
   },
   "file_extension": ".py",
   "mimetype": "text/x-python",
   "name": "python",
   "nbconvert_exporter": "python",
   "pygments_lexer": "ipython3",
   "version": "3.7.3"
  }
 },
 "nbformat": 4,
 "nbformat_minor": 4
}
